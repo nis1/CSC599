{
 "cells": [
  {
   "cell_type": "code",
   "execution_count": 264,
   "metadata": {
    "collapsed": false
   },
   "outputs": [],
   "source": [
    "import pandas\n",
    "import numpy as np\n",
    "import matplotlib.pyplot as plt\n"
   ]
  },
  {
   "cell_type": "code",
   "execution_count": 265,
   "metadata": {
    "collapsed": true
   },
   "outputs": [],
   "source": [
    "#extract data - fruits\n",
    "def getFruits(k):\n",
    "    \n",
    "    #men k=7\n",
    "    #women k=10\n",
    "    \n",
    "    # \"Apples as fruit\" \n",
    "    i=j=79\n",
    "    apples = df.ix[i:j,k]\n",
    "\n",
    "    # \"Bananas\", \"Berries\", \"Grapes\", \"Melons\", \"Oranges Total\"\n",
    "    i=81\n",
    "    j=85\n",
    "    bananas = df.ix[i:j,k]\n",
    "\n",
    "    # \"Other citrus fruit\", \"Stone fruit\", \"Tropical fruit\".\n",
    "    i=88\n",
    "    j=90\n",
    "    others = df.ix[i:j,k]\n",
    "\n",
    "    applesMatrix = apples.as_matrix()\n",
    "    bananasMatrix = bananas.as_matrix()\n",
    "    othersMatrix = others.as_matrix()\n",
    "    \n",
    "    allMatrix = np.concatenate((applesMatrix,bananasMatrix,othersMatrix),axis=0)\n",
    "   \n",
    "#    print('Values: ' + str(allMatrix))\n",
    "#    allMatrix = np.reshape(allMatrix, (9, 1))\n",
    "#    print('Values: ' + str(allMatrix))\n",
    "    return allMatrix"
   ]
  },
  {
   "cell_type": "code",
   "execution_count": 266,
   "metadata": {
    "collapsed": true
   },
   "outputs": [],
   "source": [
    "#extract data - dairy\n",
    "def getDairy(k):\n",
    "    \n",
    "    #men k=7\n",
    "    #women k=10\n",
    "\n",
    "    #Fluid milk total\"\n",
    "    i=j=108\n",
    "    milk = df.ix[i:j,k]\n",
    "\n",
    "    # \"Butter\", \"Cheese\", \"Yogurt\", \"Dairy, Other\".\n",
    "    i=113\n",
    "    j=116\n",
    "    others = df.ix[i:j,k]\n",
    "\n",
    "    milkMatrix = milk.as_matrix()\n",
    "    othersMatrix = others.as_matrix()\n",
    "\n",
    "    allMatrix = np.concatenate((milkMatrix,othersMatrix),axis=0)\n",
    "   \n",
    "    #print('Values: ' + str(allMatrix))\n",
    "    #allMatrix = np.reshape(allMatrix, (9, 1))\n",
    "    #print('Values: ' + str(allMatrix))\n",
    "    return allMatrix"
   ]
  },
  {
   "cell_type": "code",
   "execution_count": 267,
   "metadata": {
    "collapsed": false
   },
   "outputs": [
    {
     "name": "stdout",
     "output_type": "stream",
     "text": [
      "Values - Fruits - Men: \n",
      "Values0: [89.18 95.42 84.21 88.79 80.74 85.66 79.82 88.95 74.61]\n",
      "Values1: [90.86 94.85 88.57 88.55 79.72 84.46 73.74 94.02 74.58]\n",
      "Values2: [89.7 95.59 91.83 93.65 80.85 86 72.95 93.05 76.94]\n",
      "Values3: [93.35 93.96 90.7 92.16 84.97 84.16 61.9 95.89 84.68]\n",
      "\n",
      "Final matrix: [[[89.18 90.86 89.7 93.35]\n",
      "  [95.42 94.85 95.59 93.96]\n",
      "  [84.21 88.57 91.83 90.7]\n",
      "  [88.79 88.55 93.65 92.16]\n",
      "  [80.74 79.72 80.85 84.97]\n",
      "  [85.66 84.46 86 84.16]\n",
      "  [79.82 73.74 72.95 61.9]\n",
      "  [88.95 94.02 93.05 95.89]\n",
      "  [74.61 74.58 76.94 84.68]]]\n"
     ]
    }
   ],
   "source": [
    "# fruit-men\n",
    "k=7\n",
    "\n",
    "df = pandas.read_excel('appendixb.xls', sheetname='94-98 FAH',header=None)\n",
    "allMatrix0 = getFruits(k);\n",
    "\n",
    "df = pandas.read_excel('appendixb.xls', sheetname='03-04 FAH',header=None)\n",
    "allMatrix1 = getFruits(k);\n",
    "\n",
    "df = pandas.read_excel('appendixb.xls', sheetname='05-06 FAH',header=None)\n",
    "allMatrix2 = getFruits(k);\n",
    "\n",
    "df = pandas.read_excel('appendixb.xls', sheetname='07-08 FAH',header=None)\n",
    "allMatrix3 = getFruits(k);\n",
    "\n",
    "print('Values - Fruits - Men: ')\n",
    "print('Values0: ' + str(allMatrix0))\n",
    "print('Values1: ' + str(allMatrix1))\n",
    "print('Values2: ' + str(allMatrix2))\n",
    "print('Values3: ' + str(allMatrix3) + \"\\n\")\n",
    "\n",
    "#rearrange the matrix\n",
    "finalMatrix=np.dstack((allMatrix0,allMatrix1,allMatrix2,allMatrix3))\n",
    "print('Final matrix: ' + str(finalMatrix))"
   ]
  },
  {
   "cell_type": "code",
   "execution_count": 268,
   "metadata": {
    "collapsed": false
   },
   "outputs": [
    {
     "name": "stdout",
     "output_type": "stream",
     "text": [
      "[4.675936308589355, -1.5300775518759253, 7.706923168269814, 3.795472463115204, 5.2390388902650535, -1.7511090357226244, -22.450513655725377, 7.802136031478356, 13.496850288165135]\n"
     ]
    }
   ],
   "source": [
    "changeFruits = [None] * 9\n",
    "for i in range(0,9):\n",
    "    percent=(finalMatrix[0,i,-1]-finalMatrix[0,i,0])/finalMatrix[0,i,0] * 100\n",
    "    \n",
    "    #print(percent)\n",
    "    changeFruits[i]=percent \n",
    "\n",
    "print(changeFruits)\n",
    " \n",
    "    \n",
    "    "
   ]
  },
  {
   "cell_type": "code",
   "execution_count": 269,
   "metadata": {
    "collapsed": false
   },
   "outputs": [
    {
     "name": "stdout",
     "output_type": "stream",
     "text": [
      "Values - Dairy - Men: \n",
      "Values0: [82.57 65.97 57.47 89.68 66.56]\n",
      "Values1: [88.83 74 56.3 87.12 73.48]\n",
      "Values2: [88.61 77.54 54.56 94.38 69.41]\n",
      "Values3: [87.86 74.37 55.2 88.52 69.87]\n",
      "\n",
      "Final matrix: [[[82.57 88.83 88.61 87.86]\n",
      "  [65.97 74 77.54 74.37]\n",
      "  [57.47 56.3 54.56 55.2]\n",
      "  [89.68 87.12 94.38 88.52]\n",
      "  [66.56 73.48 69.41 69.87]]]\n"
     ]
    }
   ],
   "source": [
    "# dairy-men\n",
    "k=7\n",
    "\n",
    "df = pandas.read_excel('appendixb.xls', sheetname='94-98 FAH',header=None)\n",
    "allMatrix0 = getDairy(k);\n",
    "\n",
    "df = pandas.read_excel('appendixb.xls', sheetname='03-04 FAH',header=None)\n",
    "allMatrix1 = getDairy(k);\n",
    "\n",
    "df = pandas.read_excel('appendixb.xls', sheetname='05-06 FAH',header=None)\n",
    "allMatrix2 = getDairy(k);\n",
    "\n",
    "df = pandas.read_excel('appendixb.xls', sheetname='07-08 FAH',header=None)\n",
    "allMatrix3 = getDairy(k);\n",
    "\n",
    "print('Values - Dairy - Men: ')\n",
    "print('Values0: ' + str(allMatrix0))\n",
    "print('Values1: ' + str(allMatrix1))\n",
    "print('Values2: ' + str(allMatrix2))\n",
    "print('Values3: ' + str(allMatrix3) + \"\\n\")\n",
    "\n",
    "#rearrange the matrix\n",
    "finalMatrix=np.dstack((allMatrix0,allMatrix1,allMatrix2,allMatrix3))\n",
    "print('Final matrix: ' + str(finalMatrix))"
   ]
  },
  {
   "cell_type": "code",
   "execution_count": 270,
   "metadata": {
    "collapsed": false
   },
   "outputs": [
    {
     "name": "stdout",
     "output_type": "stream",
     "text": [
      "[6.406685236768811, 12.733060482037297, -3.949886897511738, -1.2934879571811002, 4.9729567307692335]\n"
     ]
    }
   ],
   "source": [
    "changeDairy = [None] * 5\n",
    "for i in range(0,5):\n",
    "    percent=(finalMatrix[0,i,-1]-finalMatrix[0,i,0])/finalMatrix[0,i,0] * 100\n",
    "    \n",
    "    #print(percent)\n",
    "    changeDairy[i]=percent \n",
    "\n",
    "print(changeDairy)\n"
   ]
  },
  {
   "cell_type": "code",
   "execution_count": 271,
   "metadata": {
    "collapsed": false
   },
   "outputs": [
    {
     "data": {
      "image/png": "[encoded data removed]",
      "text/plain": [
       "<matplotlib.figure.Figure at 0x110e8d2b0>"
      ]
     },
     "metadata": {},
     "output_type": "display_data"
    }
   ],
   "source": [
    "totalChange = changeFruits+changeDairy\n",
    "N = 14\n",
    "\n",
    "ind = np.arange(N)  # the x locations for the groups\n",
    "width = 0.6       # the width of the bars\n",
    "\n",
    "fig,ax = plt.subplots()\n",
    "rects1 = ax.bar(ind, totalChange, width, color='r')\n",
    "\n",
    "# add some text for labels, title and axes ticks\n",
    "ax.set_ylabel('Percent (%)')\n",
    "ax.set_title('Change in consumption of Fruits and Dairy (Men) from 1994-1998 to 2007-2008 ')\n",
    "ax.set_xticks(ind)\n",
    "ax.set_xticklabels(('Apples as fruit', 'Bananas', 'Berries', 'Grapes', 'Melons', 'Oranges total','Other citrus fruit', 'Stone fruit', 'Tropical fruit','Fluid milk total', 'Butter', 'Cheese', 'Yogurt', 'Dairy, Other'),rotation=-45)\n",
    "\n",
    "plt.rcParams['figure.figsize'] = (12.0,10.0) \n",
    "plt.rcParams.update({'font.size': 12})\n",
    "plt.grid()\n",
    "plt.show()"
   ]
  },
  {
   "cell_type": "code",
   "execution_count": 272,
   "metadata": {
    "collapsed": false
   },
   "outputs": [
    {
     "name": "stdout",
     "output_type": "stream",
     "text": [
      "Values - Fruits - Women: \n",
      "Values0: [90.42 94.18 81.73 88.13 84.96 89.77 80.64 89.55 80.4]\n",
      "Values1: [91.21 94.57 88.29 90.14 80.99 88.07 69.6 87.94 85.85]\n",
      "Values2: [91.5 93.67 90.92 91.33 93.57 88.86 75.13 89.61 76.57]\n",
      "Values3: [91.69 94.2 87.99 90.02 85.48 89.35 77.85 94.3 80.72]\n",
      "\n",
      "Final matrix: [[[90.42 91.21 91.5 91.69]\n",
      "  [94.18 94.57 93.67 94.2]\n",
      "  [81.73 88.29 90.92 87.99]\n",
      "  [88.13 90.14 91.33 90.02]\n",
      "  [84.96 80.99 93.57 85.48]\n",
      "  [89.77 88.07 88.86 89.35]\n",
      "  [80.64 69.6 75.13 77.85]\n",
      "  [89.55 87.94 89.61 94.3]\n",
      "  [80.4 85.85 76.57 80.72]]]\n"
     ]
    }
   ],
   "source": [
    "# fruit-women\n",
    "k=10\n",
    "\n",
    "df = pandas.read_excel('appendixb.xls', sheetname='94-98 FAH',header=None)\n",
    "allMatrix0 = getFruits(k);\n",
    "\n",
    "df = pandas.read_excel('appendixb.xls', sheetname='03-04 FAH',header=None)\n",
    "allMatrix1 = getFruits(k);\n",
    "\n",
    "df = pandas.read_excel('appendixb.xls', sheetname='05-06 FAH',header=None)\n",
    "allMatrix2 = getFruits(k);\n",
    "\n",
    "df = pandas.read_excel('appendixb.xls', sheetname='07-08 FAH',header=None)\n",
    "allMatrix3 = getFruits(k);\n",
    "\n",
    "print('Values - Fruits - Women: ')\n",
    "print('Values0: ' + str(allMatrix0))\n",
    "print('Values1: ' + str(allMatrix1))\n",
    "print('Values2: ' + str(allMatrix2))\n",
    "print('Values3: ' + str(allMatrix3) + \"\\n\")\n",
    "\n",
    "#rearrange the matrix\n",
    "finalMatrix=np.dstack((allMatrix0,allMatrix1,allMatrix2,allMatrix3))\n",
    "print('Final matrix: ' + str(finalMatrix))"
   ]
  },
  {
   "cell_type": "code",
   "execution_count": 273,
   "metadata": {
    "collapsed": false
   },
   "outputs": [
    {
     "name": "stdout",
     "output_type": "stream",
     "text": [
      "[1.4045565140455607, 0.0212359311955787, 7.659366205799572, 2.1445591739475782, 0.6120527306968107, -0.4678623148045023, -3.4598214285714364, 5.30429927414852, 0.3980099502487477]\n"
     ]
    }
   ],
   "source": [
    "changeFruits = [None] * 9\n",
    "for i in range(0,9):\n",
    "    percent=(finalMatrix[0,i,-1]-finalMatrix[0,i,0])/finalMatrix[0,i,0] * 100\n",
    "    \n",
    "    #print(percent)\n",
    "    changeFruits[i]=percent \n",
    "\n",
    "print(changeFruits)\n",
    " \n",
    "    "
   ]
  },
  {
   "cell_type": "code",
   "execution_count": 274,
   "metadata": {
    "collapsed": false
   },
   "outputs": [
    {
     "name": "stdout",
     "output_type": "stream",
     "text": [
      "Values - Dairy - women: \n",
      "Values0: [86.69 70.66 62.24 88.22 65.48]\n",
      "Values1: [88.92 72.57 59.72 90.57 69.77]\n",
      "Values2: [89.69 79.72 63.35 94.82 65.94]\n",
      "Values3: [88.38 76.82 62.24 92.56 72.39]\n",
      "\n",
      "Final matrix: [[[86.69 88.92 89.69 88.38]\n",
      "  [70.66 72.57 79.72 76.82]\n",
      "  [62.24 59.72 63.35 62.24]\n",
      "  [88.22 90.57 94.82 92.56]\n",
      "  [65.48 69.77 65.94 72.39]]]\n"
     ]
    }
   ],
   "source": [
    "# dairy-women\n",
    "k=10\n",
    "\n",
    "df = pandas.read_excel('appendixb.xls', sheetname='94-98 FAH',header=None)\n",
    "allMatrix0 = getDairy(k);\n",
    "\n",
    "df = pandas.read_excel('appendixb.xls', sheetname='03-04 FAH',header=None)\n",
    "allMatrix1 = getDairy(k);\n",
    "\n",
    "df = pandas.read_excel('appendixb.xls', sheetname='05-06 FAH',header=None)\n",
    "allMatrix2 = getDairy(k);\n",
    "\n",
    "df = pandas.read_excel('appendixb.xls', sheetname='07-08 FAH',header=None)\n",
    "allMatrix3 = getDairy(k);\n",
    "\n",
    "print('Values - Dairy - women: ')\n",
    "print('Values0: ' + str(allMatrix0))\n",
    "print('Values1: ' + str(allMatrix1))\n",
    "print('Values2: ' + str(allMatrix2))\n",
    "print('Values3: ' + str(allMatrix3) + \"\\n\")\n",
    "\n",
    "#rearrange the matrix\n",
    "finalMatrix=np.dstack((allMatrix0,allMatrix1,allMatrix2,allMatrix3))\n",
    "print('Final matrix: ' + str(finalMatrix))"
   ]
  },
  {
   "cell_type": "code",
   "execution_count": 275,
   "metadata": {
    "collapsed": false
   },
   "outputs": [
    {
     "name": "stdout",
     "output_type": "stream",
     "text": [
      "[1.9494751413081066, 8.717803566374181, 0.0, 4.919519383359786, 10.55284056200366]\n"
     ]
    }
   ],
   "source": [
    "changeDairy = [None] * 5\n",
    "for i in range(0,5):\n",
    "    percent=(finalMatrix[0,i,-1]-finalMatrix[0,i,0])/finalMatrix[0,i,0] * 100\n",
    "    \n",
    "    #print(percent)\n",
    "    changeDairy[i]=percent \n",
    "\n",
    "print(changeDairy)\n"
   ]
  },
  {
   "cell_type": "code",
   "execution_count": 276,
   "metadata": {
    "collapsed": false
   },
   "outputs": [
    {
     "data": {
      "image/png": "[encoded data removed]",
      "text/plain": [
       "<matplotlib.figure.Figure at 0x10d8914e0>"
      ]
     },
     "metadata": {},
     "output_type": "display_data"
    }
   ],
   "source": [
    "totalChange = changeFruits+changeDairy\n",
    "N = 14\n",
    "\n",
    "ind = np.arange(N)  # the x locations for the groups\n",
    "width = 0.6       # the width of the bars\n",
    "\n",
    "fig,ax = plt.subplots()\n",
    "rects1 = ax.bar(ind, totalChange, width, color='r')\n",
    "\n",
    "# add some text for labels, title and axes ticks\n",
    "ax.set_ylabel('Percent (%)')\n",
    "ax.set_title('Change in consumption of Fruits and Dairy (Women) from 1994-1998 to 2007-2008 ')\n",
    "ax.set_xticks(ind)\n",
    "ax.set_xticklabels(('Apples as fruit', 'Bananas', 'Berries', 'Grapes', 'Melons', 'Oranges total','Other citrus fruit', 'Stone fruit', 'Tropical fruit','Fluid milk total', 'Butter', 'Cheese', 'Yogurt', 'Dairy, Other'),rotation=-45)\n",
    "\n",
    "plt.rcParams['figure.figsize'] = (12.0,10.0) \n",
    "plt.rcParams.update({'font.size': 12})\n",
    "plt.grid()\n",
    "plt.show()"
   ]
  },
  {
   "cell_type": "code",
   "execution_count": null,
   "metadata": {
    "collapsed": true
   },
   "outputs": [],
   "source": []
  }
 ],
 "metadata": {
  "kernelspec": {
   "display_name": "Python 3",
   "language": "python",
   "name": "python3"
  },
  "language_info": {
   "codemirror_mode": {
    "name": "ipython",
    "version": 3
   },
   "file_extension": ".py",
   "mimetype": "text/x-python",
   "name": "python",
   "nbconvert_exporter": "python",
   "pygments_lexer": "ipython3",
   "version": "3.5.2"
  }
 },
 "nbformat": 4,
 "nbformat_minor": 2
}
